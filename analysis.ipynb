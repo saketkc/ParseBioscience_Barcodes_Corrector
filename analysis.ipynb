{
 "cells": [
  {
   "cell_type": "code",
   "execution_count": 6,
   "id": "e7b1c990-8aac-459c-be97-1b45be7d952b",
   "metadata": {},
   "outputs": [],
   "source": [
    "import json\n",
    "import os\n",
    "from collections import OrderedDict, defaultdict\n",
    "from itertools import chain, combinations, product\n",
    "\n",
    "import pandas as pd\n",
    "from Levenshtein import distance\n",
    "\n",
    "\n",
    "def lev_distance(s1, s2):\n",
    "    \"\"\"Calculate Levenshtein distances.\n",
    "    Parameters\n",
    "    ----------\n",
    "    s1, s2: Strings\n",
    "\n",
    "    Returns\n",
    "    -------\n",
    "    distance: an integer distance\n",
    "\n",
    "    \"\"\"\n",
    "    return distance(s1, s2)\n",
    "\n",
    "\n",
    "def generate_json_for_barcodes(valid_barcodes, edit_distances=[0, 1, 2]):\n",
    "    \"\"\"Generate a bc_data.json file with barcodes mapped to whitelisted barcodes\n",
    "\n",
    "    Parameters\n",
    "    ----------\n",
    "    valid_barcodes: A list of strings containing whitelisted barcodes\n",
    "    edit_distances: A list of integers to generate potential barcodes\n",
    "\n",
    "    Returns\n",
    "    --------\n",
    "    json_to_dump: A json with barcodes mapped to whitelisted barcodes at each edit distance\n",
    "\n",
    "    \"\"\"\n",
    "    json_to_dump = defaultdict(dict)\n",
    "    kmer_length = len(valid_barcodes[0])\n",
    "    all_8mers = list(\n",
    "        map(lambda x: \"\".join(x), list(product(\"ATCG\", repeat=kmer_length)))\n",
    "    )\n",
    "    for edit_distance in edit_distances:\n",
    "        if edit_distance == 0:\n",
    "            for valid_barcode in valid_barcodes:\n",
    "                if valid_barcode in json_to_dump[str(edit_distance)].keys():\n",
    "                    json_to_dump[str(edit_distance)][valid_barcode].append(\n",
    "                        valid_barcode\n",
    "                    )\n",
    "                else:\n",
    "                    json_to_dump[str(edit_distance)][valid_barcode] = [valid_barcode]\n",
    "        else:\n",
    "            for target in all_8mers:\n",
    "                for valid_barcode in valid_barcodes:\n",
    "                    if valid_barcode == target:\n",
    "                        continue\n",
    "                    lev_dist = lev_distance(valid_barcode, target)\n",
    "                    if lev_dist == edit_distance:\n",
    "                        if target in json_to_dump[str(edit_distance)].keys():\n",
    "                            json_to_dump[str(edit_distance)][target].append(\n",
    "                                valid_barcode\n",
    "                            )\n",
    "                        else:\n",
    "                            json_to_dump[str(edit_distance)][target] = [valid_barcode]\n",
    "\n",
    "    for key in json_to_dump.keys():\n",
    "        data = json_to_dump[key]\n",
    "        data_sorted = OrderedDict(sorted(data.items()))\n",
    "        json_to_dump[key] = data_sorted\n",
    "    return dict(json_to_dump)"
   ]
  },
  {
   "cell_type": "markdown",
   "id": "6d70661a-6f3b-4b8e-a3a8-fe855e1c712f",
   "metadata": {},
   "source": [
    "# Read data"
   ]
  },
  {
   "cell_type": "code",
   "execution_count": 5,
   "id": "53b73218-8ca2-4261-8fb5-bc1508b5e6ec",
   "metadata": {},
   "outputs": [
    {
     "data": {
      "text/html": [
       "<div>\n",
       "<style scoped>\n",
       "    .dataframe tbody tr th:only-of-type {\n",
       "        vertical-align: middle;\n",
       "    }\n",
       "\n",
       "    .dataframe tbody tr th {\n",
       "        vertical-align: top;\n",
       "    }\n",
       "\n",
       "    .dataframe thead th {\n",
       "        text-align: right;\n",
       "    }\n",
       "</style>\n",
       "<table border=\"1\" class=\"dataframe\">\n",
       "  <thead>\n",
       "    <tr style=\"text-align: right;\">\n",
       "      <th></th>\n",
       "      <th>bci</th>\n",
       "      <th>sequence</th>\n",
       "      <th>uid</th>\n",
       "      <th>well</th>\n",
       "      <th>type</th>\n",
       "    </tr>\n",
       "  </thead>\n",
       "  <tbody>\n",
       "    <tr>\n",
       "      <th>0</th>\n",
       "      <td>1</td>\n",
       "      <td>AACGTGAT</td>\n",
       "      <td>pbs_1000</td>\n",
       "      <td>A1</td>\n",
       "      <td>L</td>\n",
       "    </tr>\n",
       "    <tr>\n",
       "      <th>1</th>\n",
       "      <td>2</td>\n",
       "      <td>AAACATCG</td>\n",
       "      <td>pbs_1001</td>\n",
       "      <td>A2</td>\n",
       "      <td>L</td>\n",
       "    </tr>\n",
       "    <tr>\n",
       "      <th>2</th>\n",
       "      <td>3</td>\n",
       "      <td>ATGCCTAA</td>\n",
       "      <td>pbs_1002</td>\n",
       "      <td>A3</td>\n",
       "      <td>L</td>\n",
       "    </tr>\n",
       "    <tr>\n",
       "      <th>3</th>\n",
       "      <td>4</td>\n",
       "      <td>AGTGGTCA</td>\n",
       "      <td>pbs_1003</td>\n",
       "      <td>A4</td>\n",
       "      <td>L</td>\n",
       "    </tr>\n",
       "    <tr>\n",
       "      <th>4</th>\n",
       "      <td>5</td>\n",
       "      <td>ACCACTGT</td>\n",
       "      <td>pbs_1004</td>\n",
       "      <td>A5</td>\n",
       "      <td>L</td>\n",
       "    </tr>\n",
       "  </tbody>\n",
       "</table>\n",
       "</div>"
      ],
      "text/plain": [
       "   bci  sequence       uid well type\n",
       "0    1  AACGTGAT  pbs_1000   A1    L\n",
       "1    2  AAACATCG  pbs_1001   A2    L\n",
       "2    3  ATGCCTAA  pbs_1002   A3    L\n",
       "3    4  AGTGGTCA  pbs_1003   A4    L\n",
       "4    5  ACCACTGT  pbs_1004   A5    L"
      ]
     },
     "execution_count": 5,
     "metadata": {},
     "output_type": "execute_result"
    }
   ],
   "source": [
    "ref_data = pd.read_csv(\n",
    "    \"/home/choudharys/github/parse_codes/bc_data_v1.csv\"\n",
    ")\n",
    "ref_data.head()"
   ]
  },
  {
   "cell_type": "code",
   "execution_count": 4,
   "id": "3c64e7c0-c6bd-4882-91f5-867f71735243",
   "metadata": {},
   "outputs": [
    {
     "data": {
      "text/plain": [
       "dict_keys(['0', '1', '2', '3'])"
      ]
     },
     "execution_count": 4,
     "metadata": {},
     "output_type": "execute_result"
    }
   ],
   "source": [
    "ref_json = json.load(\n",
    "    open(\n",
    "        \"/home/choudharys/github/parse_codes/bc_dict_v1.json\"\n",
    "    )\n",
    ")\n",
    "ref_json.keys()"
   ]
  },
  {
   "cell_type": "markdown",
   "id": "e96e89fb-8a4f-4924-a6ad-f5869432468b",
   "metadata": {},
   "source": [
    "# Generated correction map"
   ]
  },
  {
   "cell_type": "code",
   "execution_count": 7,
   "id": "b3ff7291-9560-4960-9b0e-53bc7565f169",
   "metadata": {},
   "outputs": [],
   "source": [
    "generated_json = generate_json_for_barcodes(valid_barcodes=ref_data.sequence.tolist(), edit_distances=[0,1,2,3])"
   ]
  },
  {
   "cell_type": "markdown",
   "id": "8d412b62-2aa9-42b6-8930-a9084a6a4255",
   "metadata": {},
   "source": [
    "# Compare with existing json"
   ]
  },
  {
   "cell_type": "code",
   "execution_count": 8,
   "id": "560c4128-b2f4-4ea5-9e8d-cce9c2376804",
   "metadata": {},
   "outputs": [],
   "source": [
    "missing_hits = defaultdict()\n",
    "empty_hits = defaultdict(list)\n",
    "for key in list(ref_json.keys()):\n",
    "    ref_json_data = ref_json[key]\n",
    "\n",
    "    custom_json_data = generated_json[key]\n",
    "\n",
    "    for ref_key in list(ref_json_data.keys()):\n",
    "        ref_value = ref_json_data[ref_key]\n",
    "\n",
    "        if ref_key not in custom_json_data.keys():\n",
    "            empty_hits[key].append(ref_key)\n",
    "            # next\n",
    "            continue\n",
    "        custom_value = custom_json_data[ref_key]\n",
    "        if sorted(ref_value) != sorted(custom_value):\n",
    "            # print(\"Error on {} at {}\".format(key, ref_key))\n",
    "            # raise RuntimeError(\"R\")\n",
    "            if key in list(missing_hits.keys()):\n",
    "                missing_hits[key].append(\n",
    "                    {\"ref\": ref_value, \"custom\": custom_value, \"ref_key\": ref_key}\n",
    "                )\n",
    "            else:\n",
    "                missing_hits[key] = [\n",
    "                    {\"ref\": ref_value, \"custom\": custom_value, \"ref_key\": ref_key}\n",
    "                ]"
   ]
  },
  {
   "cell_type": "code",
   "execution_count": 9,
   "id": "e0de9ddd-957e-4b69-ad75-d742f97c6650",
   "metadata": {},
   "outputs": [
    {
     "data": {
      "text/plain": [
       "defaultdict(None, {})"
      ]
     },
     "execution_count": 9,
     "metadata": {},
     "output_type": "execute_result"
    }
   ],
   "source": [
    "missing_hits"
   ]
  },
  {
   "cell_type": "code",
   "execution_count": 10,
   "id": "ad4ab8a1-4df4-4f0d-99a7-2e183329f229",
   "metadata": {},
   "outputs": [
    {
     "data": {
      "text/plain": [
       "defaultdict(list, {})"
      ]
     },
     "execution_count": 10,
     "metadata": {},
     "output_type": "execute_result"
    }
   ],
   "source": [
    "empty_hits"
   ]
  },
  {
   "cell_type": "code",
   "execution_count": null,
   "id": "13661bb2-d40b-4978-80ba-f9e15cc81551",
   "metadata": {},
   "outputs": [],
   "source": []
  }
 ],
 "metadata": {
  "kernelspec": {
   "display_name": "Python [conda env:root] *",
   "language": "python",
   "name": "conda-root-py"
  },
  "language_info": {
   "codemirror_mode": {
    "name": "ipython",
    "version": 3
   },
   "file_extension": ".py",
   "mimetype": "text/x-python",
   "name": "python",
   "nbconvert_exporter": "python",
   "pygments_lexer": "ipython3",
   "version": "3.9.13"
  }
 },
 "nbformat": 4,
 "nbformat_minor": 5
}
